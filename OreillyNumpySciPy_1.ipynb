{
 "metadata": {
  "name": ""
 },
 "nbformat": 3,
 "nbformat_minor": 0,
 "worksheets": [
  {
   "cells": [
    {
     "cell_type": "code",
     "collapsed": false,
     "input": [
      "import numpy as np\n",
      "import timeit as ti\n",
      "#creating an array with 10^7 elements\n",
      "arr = np.arange(1e7)\n",
      "\n",
      "# Coverting to list\n",
      "larr = arr.tolist()\n",
      "\n",
      "#lists cannot by default broadcast(? what is broadcast)\n",
      "#This function emulate what an ndarray can do\n",
      "\n",
      "def list_times(alist, scalar):\n",
      "    for i, val in enumerate(alist):\n",
      "        alist[i] = val * scalar\n",
      "    return alist\n",
      "\n",
      "# Using IPython's magic timeit\n",
      "ti.timeit (arr * 1.1)  # this method usage is wrong!!1\n",
      "\n",
      "ti.timeit (list_times(larr, 1.1))"
     ],
     "language": "python",
     "metadata": {},
     "outputs": [
      {
       "ename": "ValueError",
       "evalue": "stmt is neither a string nor callable",
       "output_type": "pyerr",
       "traceback": [
        "\u001b[0;31m---------------------------------------------------------------------------\u001b[0m\n\u001b[0;31mValueError\u001b[0m                                Traceback (most recent call last)",
        "\u001b[0;32m<ipython-input-6-d1292ecbc26c>\u001b[0m in \u001b[0;36m<module>\u001b[0;34m()\u001b[0m\n\u001b[1;32m     16\u001b[0m \u001b[0;34m\u001b[0m\u001b[0m\n\u001b[1;32m     17\u001b[0m \u001b[0;31m# Using IPython's magic timeit\u001b[0m\u001b[0;34m\u001b[0m\u001b[0;34m\u001b[0m\u001b[0m\n\u001b[0;32m---> 18\u001b[0;31m \u001b[0mti\u001b[0m\u001b[0;34m.\u001b[0m\u001b[0mtimeit\u001b[0m \u001b[0;34m(\u001b[0m\u001b[0marr\u001b[0m \u001b[0;34m*\u001b[0m \u001b[0;36m1.1\u001b[0m\u001b[0;34m)\u001b[0m  \u001b[0;31m# this method usage is wrong!!1\u001b[0m\u001b[0;34m\u001b[0m\u001b[0m\n\u001b[0m\u001b[1;32m     19\u001b[0m \u001b[0;34m\u001b[0m\u001b[0m\n\u001b[1;32m     20\u001b[0m \u001b[0mti\u001b[0m\u001b[0;34m.\u001b[0m\u001b[0mtimeit\u001b[0m \u001b[0;34m(\u001b[0m\u001b[0mlist_times\u001b[0m\u001b[0;34m(\u001b[0m\u001b[0mlarr\u001b[0m\u001b[0;34m,\u001b[0m \u001b[0;36m1.1\u001b[0m\u001b[0;34m)\u001b[0m\u001b[0;34m)\u001b[0m\u001b[0;34m\u001b[0m\u001b[0m\n",
        "\u001b[0;32m/Users/samantha/anaconda/python.app/Contents/lib/python2.7/timeit.pyc\u001b[0m in \u001b[0;36mtimeit\u001b[0;34m(stmt, setup, timer, number)\u001b[0m\n\u001b[1;32m    228\u001b[0m            number=default_number):\n\u001b[1;32m    229\u001b[0m     \u001b[0;34m\"\"\"Convenience function to create Timer object and call timeit method.\"\"\"\u001b[0m\u001b[0;34m\u001b[0m\u001b[0m\n\u001b[0;32m--> 230\u001b[0;31m     \u001b[0;32mreturn\u001b[0m \u001b[0mTimer\u001b[0m\u001b[0;34m(\u001b[0m\u001b[0mstmt\u001b[0m\u001b[0;34m,\u001b[0m \u001b[0msetup\u001b[0m\u001b[0;34m,\u001b[0m \u001b[0mtimer\u001b[0m\u001b[0;34m)\u001b[0m\u001b[0;34m.\u001b[0m\u001b[0mtimeit\u001b[0m\u001b[0;34m(\u001b[0m\u001b[0mnumber\u001b[0m\u001b[0;34m)\u001b[0m\u001b[0;34m\u001b[0m\u001b[0m\n\u001b[0m\u001b[1;32m    231\u001b[0m \u001b[0;34m\u001b[0m\u001b[0m\n\u001b[1;32m    232\u001b[0m def repeat(stmt=\"pass\", setup=\"pass\", timer=default_timer,\n",
        "\u001b[0;32m/Users/samantha/anaconda/python.app/Contents/lib/python2.7/timeit.pyc\u001b[0m in \u001b[0;36m__init__\u001b[0;34m(self, stmt, setup, timer)\u001b[0m\n\u001b[1;32m    147\u001b[0m             \u001b[0mself\u001b[0m\u001b[0;34m.\u001b[0m\u001b[0minner\u001b[0m \u001b[0;34m=\u001b[0m \u001b[0m_template_func\u001b[0m\u001b[0;34m(\u001b[0m\u001b[0msetup\u001b[0m\u001b[0;34m,\u001b[0m \u001b[0mstmt\u001b[0m\u001b[0;34m)\u001b[0m\u001b[0;34m\u001b[0m\u001b[0m\n\u001b[1;32m    148\u001b[0m         \u001b[0;32melse\u001b[0m\u001b[0;34m:\u001b[0m\u001b[0;34m\u001b[0m\u001b[0m\n\u001b[0;32m--> 149\u001b[0;31m             \u001b[0;32mraise\u001b[0m \u001b[0mValueError\u001b[0m\u001b[0;34m(\u001b[0m\u001b[0;34m\"stmt is neither a string nor callable\"\u001b[0m\u001b[0;34m)\u001b[0m\u001b[0;34m\u001b[0m\u001b[0m\n\u001b[0m\u001b[1;32m    150\u001b[0m \u001b[0;34m\u001b[0m\u001b[0m\n\u001b[1;32m    151\u001b[0m     \u001b[0;32mdef\u001b[0m \u001b[0mprint_exc\u001b[0m\u001b[0;34m(\u001b[0m\u001b[0mself\u001b[0m\u001b[0;34m,\u001b[0m \u001b[0mfile\u001b[0m\u001b[0;34m=\u001b[0m\u001b[0mNone\u001b[0m\u001b[0;34m)\u001b[0m\u001b[0;34m:\u001b[0m\u001b[0;34m\u001b[0m\u001b[0m\n",
        "\u001b[0;31mValueError\u001b[0m: stmt is neither a string nor callable"
       ]
      }
     ],
     "prompt_number": 6
    },
    {
     "cell_type": "code",
     "collapsed": false,
     "input": [
      "#array creation and data typing\n",
      "alist = [1,2,3]\n",
      "arr = np.array(alist)\n",
      "print(arr)\n",
      "len(arr)\n",
      "arr = np.zeros(5)\n",
      "print(arr)\n",
      "arr = np.arange(100)\n",
      "print(arr)\n",
      "arr = np.arange(10,100,2)\n",
      "print(arr)\n",
      "#5x5 array\n",
      "image = np.zeros((5,5))\n",
      "print 'image =', image\n",
      "\n",
      "#5x5x5 cub of 1's\n",
      "# astype()->sets the array with integer elements\n",
      "cube = np.zeros((5,5,5)).astype(int) + 1\n",
      "print 'cube =', cube\n",
      "\n",
      "#16-bit floating-point precision\n",
      "cube2 = np.ones((5,5,5,)).astype(np.float16)\n",
      "print 'cube2 =', cube2"
     ],
     "language": "python",
     "metadata": {},
     "outputs": [
      {
       "output_type": "stream",
       "stream": "stdout",
       "text": [
        "[1 2 3]\n",
        "[ 0.  0.  0.  0.  0.]\n",
        "[ 0  1  2  3  4  5  6  7  8  9 10 11 12 13 14 15 16 17 18 19 20 21 22 23 24\n",
        " 25 26 27 28 29 30 31 32 33 34 35 36 37 38 39 40 41 42 43 44 45 46 47 48 49\n",
        " 50 51 52 53 54 55 56 57 58 59 60 61 62 63 64 65 66 67 68 69 70 71 72 73 74\n",
        " 75 76 77 78 79 80 81 82 83 84 85 86 87 88 89 90 91 92 93 94 95 96 97 98 99]\n",
        "[10 12 14 16 18 20 22 24 26 28 30 32 34 36 38 40 42 44 46 48 50 52 54 56 58\n",
        " 60 62 64 66 68 70 72 74 76 78 80 82 84 86 88 90 92 94 96 98]\n",
        "image = [[ 0.  0.  0.  0.  0.]\n",
        " [ 0.  0.  0.  0.  0.]\n",
        " [ 0.  0.  0.  0.  0.]\n",
        " [ 0.  0.  0.  0.  0.]\n",
        " [ 0.  0.  0.  0.  0.]]\n",
        "cube = [[[1 1 1 1 1]\n",
        "  [1 1 1 1 1]\n",
        "  [1 1 1 1 1]\n",
        "  [1 1 1 1 1]\n",
        "  [1 1 1 1 1]]\n",
        "\n",
        " [[1 1 1 1 1]\n",
        "  [1 1 1 1 1]\n",
        "  [1 1 1 1 1]\n",
        "  [1 1 1 1 1]\n",
        "  [1 1 1 1 1]]\n",
        "\n",
        " [[1 1 1 1 1]\n",
        "  [1 1 1 1 1]\n",
        "  [1 1 1 1 1]\n",
        "  [1 1 1 1 1]\n",
        "  [1 1 1 1 1]]\n",
        "\n",
        " [[1 1 1 1 1]\n",
        "  [1 1 1 1 1]\n",
        "  [1 1 1 1 1]\n",
        "  [1 1 1 1 1]\n",
        "  [1 1 1 1 1]]\n",
        "\n",
        " [[1 1 1 1 1]\n",
        "  [1 1 1 1 1]\n",
        "  [1 1 1 1 1]\n",
        "  [1 1 1 1 1]\n",
        "  [1 1 1 1 1]]]\n",
        "cube2 = [[[ 1.  1.  1.  1.  1.]\n",
        "  [ 1.  1.  1.  1.  1.]\n",
        "  [ 1.  1.  1.  1.  1.]\n",
        "  [ 1.  1.  1.  1.  1.]\n",
        "  [ 1.  1.  1.  1.  1.]]\n",
        "\n",
        " [[ 1.  1.  1.  1.  1.]\n",
        "  [ 1.  1.  1.  1.  1.]\n",
        "  [ 1.  1.  1.  1.  1.]\n",
        "  [ 1.  1.  1.  1.  1.]\n",
        "  [ 1.  1.  1.  1.  1.]]\n",
        "\n",
        " [[ 1.  1.  1.  1.  1.]\n",
        "  [ 1.  1.  1.  1.  1.]\n",
        "  [ 1.  1.  1.  1.  1.]\n",
        "  [ 1.  1.  1.  1.  1.]\n",
        "  [ 1.  1.  1.  1.  1.]]\n",
        "\n",
        " [[ 1.  1.  1.  1.  1.]\n",
        "  [ 1.  1.  1.  1.  1.]\n",
        "  [ 1.  1.  1.  1.  1.]\n",
        "  [ 1.  1.  1.  1.  1.]\n",
        "  [ 1.  1.  1.  1.  1.]]\n",
        "\n",
        " [[ 1.  1.  1.  1.  1.]\n",
        "  [ 1.  1.  1.  1.  1.]\n",
        "  [ 1.  1.  1.  1.  1.]\n",
        "  [ 1.  1.  1.  1.  1.]\n",
        "  [ 1.  1.  1.  1.  1.]]]\n"
       ]
      }
     ],
     "prompt_number": 31
    },
    {
     "cell_type": "code",
     "collapsed": false,
     "input": [
      "#changing default bit depth using \n",
      "# numpy.float16, numpy.float32, or numpy.float64\n",
      "\n",
      "#Array of zero integers\n",
      "arr = np.zeros(2,dtype=int)\n",
      "print(arr)\n",
      "type(arr)\n",
      "\n",
      "arr = np.zeros(2, dtype=np.float32)\n",
      "print(arr)\n",
      "\n",
      "# To find datatype stored in an array\n",
      "d = np.dtype(int)\n",
      "print d\n",
      "print np.issubdtype(d, int)\n",
      "print np.issubdtype(d, float)\n",
      "#print (np.dtype([arr,'int']))\n"
     ],
     "language": "python",
     "metadata": {},
     "outputs": [
      {
       "output_type": "stream",
       "stream": "stdout",
       "text": [
        "[0 0]\n",
        "[ 0.  0.]\n",
        "int64\n",
        "True\n",
        "False\n"
       ]
      }
     ],
     "prompt_number": 39
    },
    {
     "cell_type": "code",
     "collapsed": false,
     "input": [
      "#Reshaping arrays\n",
      "arr1d = np.arange(1000)\n",
      "#print 'arr1d = ', arr1d\n",
      "#reshape to 10x10x10\n",
      "arr3d = arr1d.reshape((10,10,10))\n",
      "print 'arr3d = ', arr3d\n",
      "#alternate calling\n",
      "arr3d = np.reshape(arr1d, (10,10,10))\n",
      "#inverse; flatten arrays\n",
      "arr4d = np.zeros((10,10,10,10))\n",
      "print 'arr4d shape = ', arr4d.shape\n",
      "#print 'arr4d = ', arr4d\n",
      "arr1d = arr4d.ravel()\n",
      "#print 'arr1d = ', arr1d\n",
      "print 'arr1d shape = ', arr1d.shape"
     ],
     "language": "python",
     "metadata": {},
     "outputs": [
      {
       "output_type": "stream",
       "stream": "stdout",
       "text": [
        "arr3d =  [[[  0   1   2   3   4   5   6   7   8   9]\n",
        "  [ 10  11  12  13  14  15  16  17  18  19]\n",
        "  [ 20  21  22  23  24  25  26  27  28  29]\n",
        "  [ 30  31  32  33  34  35  36  37  38  39]\n",
        "  [ 40  41  42  43  44  45  46  47  48  49]\n",
        "  [ 50  51  52  53  54  55  56  57  58  59]\n",
        "  [ 60  61  62  63  64  65  66  67  68  69]\n",
        "  [ 70  71  72  73  74  75  76  77  78  79]\n",
        "  [ 80  81  82  83  84  85  86  87  88  89]\n",
        "  [ 90  91  92  93  94  95  96  97  98  99]]\n",
        "\n",
        " [[100 101 102 103 104 105 106 107 108 109]\n",
        "  [110 111 112 113 114 115 116 117 118 119]\n",
        "  [120 121 122 123 124 125 126 127 128 129]\n",
        "  [130 131 132 133 134 135 136 137 138 139]\n",
        "  [140 141 142 143 144 145 146 147 148 149]\n",
        "  [150 151 152 153 154 155 156 157 158 159]\n",
        "  [160 161 162 163 164 165 166 167 168 169]\n",
        "  [170 171 172 173 174 175 176 177 178 179]\n",
        "  [180 181 182 183 184 185 186 187 188 189]\n",
        "  [190 191 192 193 194 195 196 197 198 199]]\n",
        "\n",
        " [[200 201 202 203 204 205 206 207 208 209]\n",
        "  [210 211 212 213 214 215 216 217 218 219]\n",
        "  [220 221 222 223 224 225 226 227 228 229]\n",
        "  [230 231 232 233 234 235 236 237 238 239]\n",
        "  [240 241 242 243 244 245 246 247 248 249]\n",
        "  [250 251 252 253 254 255 256 257 258 259]\n",
        "  [260 261 262 263 264 265 266 267 268 269]\n",
        "  [270 271 272 273 274 275 276 277 278 279]\n",
        "  [280 281 282 283 284 285 286 287 288 289]\n",
        "  [290 291 292 293 294 295 296 297 298 299]]\n",
        "\n",
        " [[300 301 302 303 304 305 306 307 308 309]\n",
        "  [310 311 312 313 314 315 316 317 318 319]\n",
        "  [320 321 322 323 324 325 326 327 328 329]\n",
        "  [330 331 332 333 334 335 336 337 338 339]\n",
        "  [340 341 342 343 344 345 346 347 348 349]\n",
        "  [350 351 352 353 354 355 356 357 358 359]\n",
        "  [360 361 362 363 364 365 366 367 368 369]\n",
        "  [370 371 372 373 374 375 376 377 378 379]\n",
        "  [380 381 382 383 384 385 386 387 388 389]\n",
        "  [390 391 392 393 394 395 396 397 398 399]]\n",
        "\n",
        " [[400 401 402 403 404 405 406 407 408 409]\n",
        "  [410 411 412 413 414 415 416 417 418 419]\n",
        "  [420 421 422 423 424 425 426 427 428 429]\n",
        "  [430 431 432 433 434 435 436 437 438 439]\n",
        "  [440 441 442 443 444 445 446 447 448 449]\n",
        "  [450 451 452 453 454 455 456 457 458 459]\n",
        "  [460 461 462 463 464 465 466 467 468 469]\n",
        "  [470 471 472 473 474 475 476 477 478 479]\n",
        "  [480 481 482 483 484 485 486 487 488 489]\n",
        "  [490 491 492 493 494 495 496 497 498 499]]\n",
        "\n",
        " [[500 501 502 503 504 505 506 507 508 509]\n",
        "  [510 511 512 513 514 515 516 517 518 519]\n",
        "  [520 521 522 523 524 525 526 527 528 529]\n",
        "  [530 531 532 533 534 535 536 537 538 539]\n",
        "  [540 541 542 543 544 545 546 547 548 549]\n",
        "  [550 551 552 553 554 555 556 557 558 559]\n",
        "  [560 561 562 563 564 565 566 567 568 569]\n",
        "  [570 571 572 573 574 575 576 577 578 579]\n",
        "  [580 581 582 583 584 585 586 587 588 589]\n",
        "  [590 591 592 593 594 595 596 597 598 599]]\n",
        "\n",
        " [[600 601 602 603 604 605 606 607 608 609]\n",
        "  [610 611 612 613 614 615 616 617 618 619]\n",
        "  [620 621 622 623 624 625 626 627 628 629]\n",
        "  [630 631 632 633 634 635 636 637 638 639]\n",
        "  [640 641 642 643 644 645 646 647 648 649]\n",
        "  [650 651 652 653 654 655 656 657 658 659]\n",
        "  [660 661 662 663 664 665 666 667 668 669]\n",
        "  [670 671 672 673 674 675 676 677 678 679]\n",
        "  [680 681 682 683 684 685 686 687 688 689]\n",
        "  [690 691 692 693 694 695 696 697 698 699]]\n",
        "\n",
        " [[700 701 702 703 704 705 706 707 708 709]\n",
        "  [710 711 712 713 714 715 716 717 718 719]\n",
        "  [720 721 722 723 724 725 726 727 728 729]\n",
        "  [730 731 732 733 734 735 736 737 738 739]\n",
        "  [740 741 742 743 744 745 746 747 748 749]\n",
        "  [750 751 752 753 754 755 756 757 758 759]\n",
        "  [760 761 762 763 764 765 766 767 768 769]\n",
        "  [770 771 772 773 774 775 776 777 778 779]\n",
        "  [780 781 782 783 784 785 786 787 788 789]\n",
        "  [790 791 792 793 794 795 796 797 798 799]]\n",
        "\n",
        " [[800 801 802 803 804 805 806 807 808 809]\n",
        "  [810 811 812 813 814 815 816 817 818 819]\n",
        "  [820 821 822 823 824 825 826 827 828 829]\n",
        "  [830 831 832 833 834 835 836 837 838 839]\n",
        "  [840 841 842 843 844 845 846 847 848 849]\n",
        "  [850 851 852 853 854 855 856 857 858 859]\n",
        "  [860 861 862 863 864 865 866 867 868 869]\n",
        "  [870 871 872 873 874 875 876 877 878 879]\n",
        "  [880 881 882 883 884 885 886 887 888 889]\n",
        "  [890 891 892 893 894 895 896 897 898 899]]\n",
        "\n",
        " [[900 901 902 903 904 905 906 907 908 909]\n",
        "  [910 911 912 913 914 915 916 917 918 919]\n",
        "  [920 921 922 923 924 925 926 927 928 929]\n",
        "  [930 931 932 933 934 935 936 937 938 939]\n",
        "  [940 941 942 943 944 945 946 947 948 949]\n",
        "  [950 951 952 953 954 955 956 957 958 959]\n",
        "  [960 961 962 963 964 965 966 967 968 969]\n",
        "  [970 971 972 973 974 975 976 977 978 979]\n",
        "  [980 981 982 983 984 985 986 987 988 989]\n",
        "  [990 991 992 993 994 995 996 997 998 999]]]\n",
        "arr4d shape =  (10, 10, 10, 10)\n",
        "arr1d shape =  (10000,)\n"
       ]
      }
     ],
     "prompt_number": 42
    },
    {
     "cell_type": "heading",
     "level": 4,
     "metadata": {},
     "source": [
      "NB: rehsaped data is only a different view of the memory resident data. \n",
      "For eg: changing arr1d element will results in same change visible in arr3d. \n",
      "Use numpy.copy to avoid this!"
     ]
    },
    {
     "cell_type": "raw",
     "metadata": {},
     "source": [
      "More on Basic Data Types: http://docs.scipy.org/doc/numpy/user/basics.types.html"
     ]
    },
    {
     "cell_type": "heading",
     "level": 1,
     "metadata": {},
     "source": [
      "2.1.2 Record Arrays"
     ]
    },
    {
     "cell_type": "raw",
     "metadata": {},
     "source": [
      "To store complex data structures: use numpy.recarray"
     ]
    },
    {
     "cell_type": "code",
     "collapsed": false,
     "input": [
      "# Creating an array of zeros and defining column types\n",
      "recarr = np.zeros((2,), dtype=('i4,f4,a10')) #i4=32-bit int, f4=32-bit float, a10=string 10 char long\n",
      "toadd = [(1,2.,'Hello'), (2,3., \"World\")]\n",
      "print 'recarr -> ', recarr\n",
      "print 'toadd  -> ', toadd\n",
      "recarr[:] = toadd\n",
      "print 'recarr -> ', recarr\n",
      "#print np.zeros((2,))"
     ],
     "language": "python",
     "metadata": {},
     "outputs": [
      {
       "output_type": "stream",
       "stream": "stdout",
       "text": [
        "recarr ->  [(0, 0.0, '') (0, 0.0, '')]\n",
        "toadd  ->  [(1, 2.0, 'Hello'), (2, 3.0, 'World')]\n",
        "recarr ->  [(1, 2.0, 'Hello') (2, 3.0, 'World')]\n"
       ]
      }
     ],
     "prompt_number": 54
    },
    {
     "cell_type": "raw",
     "metadata": {},
     "source": [
      "More at: http://docs.scipy.org/doc/numpy/user/basics.rec.html"
     ]
    },
    {
     "cell_type": "code",
     "collapsed": false,
     "input": [
      "# Populating recarr\n",
      "\n",
      "# Create an array of zeros and defining column types\n",
      "recarr = np.zeros((2,), dtype=('i4,f4,a10'))\n",
      "\n",
      "# Now creating the columns we want to put in the array\n",
      "col1 = np.arange(2) + 1\n",
      "col2 = np.arange(2, dtype=np.float32)\n",
      "col3 = ['Hello', 'World']\n",
      "\n",
      "# create a list of tuples\n",
      "toadd = zip(col1, col2, col3)\n",
      "#print toadd\n",
      "\n",
      "# Assign values to recarr\n",
      "recarr[:] = toadd\n",
      "print 'recarr -> ', recarr\n",
      "\n",
      "# Assigning names to each column\n",
      "# Default names are: 'f0', 'f1', 'f2'\n",
      "str(recarr)\n",
      "recarr.dtype.names = ('Integers','Floats','Strings')\n",
      "\n",
      "# To access a column by name\n",
      "recarr('Integers')"
     ],
     "language": "python",
     "metadata": {},
     "outputs": [
      {
       "ename": "TypeError",
       "evalue": "'numpy.ndarray' object is not callable",
       "output_type": "pyerr",
       "traceback": [
        "\u001b[0;31m---------------------------------------------------------------------------\u001b[0m\n\u001b[0;31mTypeError\u001b[0m                                 Traceback (most recent call last)",
        "\u001b[0;32m<ipython-input-62-78a27d874ea3>\u001b[0m in \u001b[0;36m<module>\u001b[0;34m()\u001b[0m\n\u001b[1;32m     23\u001b[0m \u001b[0;34m\u001b[0m\u001b[0m\n\u001b[1;32m     24\u001b[0m \u001b[0;31m# To access a column by name\u001b[0m\u001b[0;34m\u001b[0m\u001b[0;34m\u001b[0m\u001b[0m\n\u001b[0;32m---> 25\u001b[0;31m \u001b[0mrecarr\u001b[0m\u001b[0;34m(\u001b[0m\u001b[0;34m'Integers'\u001b[0m\u001b[0;34m)\u001b[0m\u001b[0;34m\u001b[0m\u001b[0m\n\u001b[0m",
        "\u001b[0;31mTypeError\u001b[0m: 'numpy.ndarray' object is not callable"
       ]
      },
      {
       "output_type": "stream",
       "stream": "stdout",
       "text": [
        "recarr ->  [(1, 0.0, 'Hello') (2, 1.0, 'World')]\n"
       ]
      }
     ],
     "prompt_number": 62
    },
    {
     "cell_type": "heading",
     "level": 1,
     "metadata": {},
     "source": [
      "2.1.3 Indexing and Slicing"
     ]
    },
    {
     "cell_type": "code",
     "collapsed": false,
     "input": [
      "alist =[[1,2],[3,4]]\n",
      "# Converting the list to array\n",
      "arr = np.array(alist)\n",
      "print arr\n",
      "#get last column\n",
      "print 'last column:' , arr[:,1]\n",
      "\n",
      "#get \n",
      "print 'last row:', arr[1,:]\n",
      "\n"
     ],
     "language": "python",
     "metadata": {},
     "outputs": [
      {
       "output_type": "stream",
       "stream": "stdout",
       "text": [
        "[[1 2]\n",
        " [3 4]]\n",
        "last column: [1 3]\n",
        "last row?: [1 2]\n"
       ]
      }
     ],
     "prompt_number": 64
    },
    {
     "cell_type": "code",
     "collapsed": false,
     "input": [
      "#complex indexing\n",
      "arr = np.arange(5)\n",
      "\n",
      "# create index array\n",
      "index = np.where(arr > 2)\n",
      "print 'indices =', index\n",
      "\n",
      "# Creating the desired array\n",
      "new_arr = arr[index]\n",
      "print 'new_arr = ', new_arr\n",
      "\n",
      "# to remove specific elements\n",
      "new_arr = np.delete(arr, index)\n",
      "\n",
      "# Can use boolean array to get specific elements\n",
      "index = arr > 2\n",
      "print 'index = ', index\n",
      "new_arr = arr[index]\n",
      "print 'new_arr = ', new_arr"
     ],
     "language": "python",
     "metadata": {},
     "outputs": [
      {
       "output_type": "stream",
       "stream": "stdout",
       "text": [
        "indices = (array([3, 4]),)\n",
        "new_arr =  [3 4]\n",
        "index =  [False False False  True  True]\n",
        "new_arr =  [3 4]\n"
       ]
      }
     ],
     "prompt_number": 66
    },
    {
     "cell_type": "heading",
     "level": 1,
     "metadata": {},
     "source": [
      "2.2 Boolean Statements"
     ]
    },
    {
     "cell_type": "raw",
     "metadata": {},
     "source": [
      "Can only use & and | for logical operations"
     ]
    },
    {
     "cell_type": "code",
     "collapsed": false,
     "input": [
      " # Creating an image\n",
      "img1 = np.zeros((20,20)) + 3\n",
      "img1[4:-4,4:-4] = 6\n",
      "img1[7:-7,7:-7] = 9\n",
      "#print img1\n",
      "\n",
      "# filter out all values larger than 2 and less than 6\n",
      "index1 = img1 > 2\n",
      "index2 = img1 < 6\n",
      "compound_index = index1 & index2\n",
      "#print 'compound_index -> ', compound_index\n",
      "\n",
      "# can alternatively be written as # I am not sure if this the same?!!\n",
      "compound_index2 = (img1 > 3) & (img1 <7)\n",
      "#print compound_index \n",
      "equal = compound_index == compound_index2\n",
      "img_equal = img1[equal]\n",
      "#print 'equal =', equal\n",
      "print 'img_equal =', img_equal\n",
      "#np.in1d(compound_index, compound_index2)\n",
      "#np.intersect1d(compound_index, compound_index2)\n",
      "\n",
      "\n",
      "# Making the boolean arrays even more complex\n",
      "index3 = img1 == 9\n",
      "index4 = (index1 & index2) | index3\n",
      "img3 = np.copy(img1)\n",
      "img3[index4] = 0\n",
      "print img3\n"
     ],
     "language": "python",
     "metadata": {},
     "outputs": [
      {
       "output_type": "stream",
       "stream": "stdout",
       "text": [
        "img_equal = [ 9.  9.  9.  9.  9.  9.  9.  9.  9.  9.  9.  9.  9.  9.  9.  9.  9.  9.\n",
        "  9.  9.  9.  9.  9.  9.  9.  9.  9.  9.  9.  9.  9.  9.  9.  9.  9.  9.]\n",
        "[[ 0.  0.  0.  0.  0.  0.  0.  0.  0.  0.  0.  0.  0.  0.  0.  0.  0.  0.\n",
        "   0.  0.]\n",
        " [ 0.  0.  0.  0.  0.  0.  0.  0.  0.  0.  0.  0.  0.  0.  0.  0.  0.  0.\n",
        "   0.  0.]\n",
        " [ 0.  0.  0.  0.  0.  0.  0.  0.  0.  0.  0.  0.  0.  0.  0.  0.  0.  0.\n",
        "   0.  0.]\n",
        " [ 0.  0.  0.  0.  0.  0.  0.  0.  0.  0.  0.  0.  0.  0.  0.  0.  0.  0.\n",
        "   0.  0.]\n",
        " [ 0.  0.  0.  0.  6.  6.  6.  6.  6.  6.  6.  6.  6.  6.  6.  6.  0.  0.\n",
        "   0.  0.]\n",
        " [ 0.  0.  0.  0.  6.  6.  6.  6.  6.  6.  6.  6.  6.  6.  6.  6.  0.  0.\n",
        "   0.  0.]\n",
        " [ 0.  0.  0.  0.  6.  6.  6.  6.  6.  6.  6.  6.  6.  6.  6.  6.  0.  0.\n",
        "   0.  0.]\n",
        " [ 0.  0.  0.  0.  6.  6.  6.  0.  0.  0.  0.  0.  0.  6.  6.  6.  0.  0.\n",
        "   0.  0.]\n",
        " [ 0.  0.  0.  0.  6.  6.  6.  0.  0.  0.  0.  0.  0.  6.  6.  6.  0.  0.\n",
        "   0.  0.]\n",
        " [ 0.  0.  0.  0.  6.  6.  6.  0.  0.  0.  0.  0.  0.  6.  6.  6.  0.  0.\n",
        "   0.  0.]\n",
        " [ 0.  0.  0.  0.  6.  6.  6.  0.  0.  0.  0.  0.  0.  6.  6.  6.  0.  0.\n",
        "   0.  0.]\n",
        " [ 0.  0.  0.  0.  6.  6.  6.  0.  0.  0.  0.  0.  0.  6.  6.  6.  0.  0.\n",
        "   0.  0.]\n",
        " [ 0.  0.  0.  0.  6.  6.  6.  0.  0.  0.  0.  0.  0.  6.  6.  6.  0.  0.\n",
        "   0.  0.]\n",
        " [ 0.  0.  0.  0.  6.  6.  6.  6.  6.  6.  6.  6.  6.  6.  6.  6.  0.  0.\n",
        "   0.  0.]\n",
        " [ 0.  0.  0.  0.  6.  6.  6.  6.  6.  6.  6.  6.  6.  6.  6.  6.  0.  0.\n",
        "   0.  0.]\n",
        " [ 0.  0.  0.  0.  6.  6.  6.  6.  6.  6.  6.  6.  6.  6.  6.  6.  0.  0.\n",
        "   0.  0.]\n",
        " [ 0.  0.  0.  0.  0.  0.  0.  0.  0.  0.  0.  0.  0.  0.  0.  0.  0.  0.\n",
        "   0.  0.]\n",
        " [ 0.  0.  0.  0.  0.  0.  0.  0.  0.  0.  0.  0.  0.  0.  0.  0.  0.  0.\n",
        "   0.  0.]\n",
        " [ 0.  0.  0.  0.  0.  0.  0.  0.  0.  0.  0.  0.  0.  0.  0.  0.  0.  0.\n",
        "   0.  0.]\n",
        " [ 0.  0.  0.  0.  0.  0.  0.  0.  0.  0.  0.  0.  0.  0.  0.  0.  0.  0.\n",
        "   0.  0.]]\n"
       ]
      }
     ],
     "prompt_number": 80
    },
    {
     "cell_type": "code",
     "collapsed": false,
     "input": [
      "# Opearting on specific elements\n",
      "import numpy.random as rand\n",
      "\n",
      "# get some random values from a std. normal\n",
      "a = rand.randn(10)\n",
      "print ' a -> ', a\n",
      "#generate index to filter out desired elements\n",
      "index = a > 0.2\n",
      "b = a[index]\n",
      "print ' b -> ', b\n",
      "\n",
      "#do some operations\n",
      "b = b ** 2 - 2\n",
      "print 'b ** 2 -2 -> ', b\n",
      "\n",
      "# put the modified elements back into the original array\n",
      "a[index] = b\n",
      "print 'new a -> ', a"
     ],
     "language": "python",
     "metadata": {},
     "outputs": [
      {
       "output_type": "stream",
       "stream": "stdout",
       "text": [
        " a ->  [-1.05446842 -1.58511631 -0.20747295  0.68568779  1.29218169 -0.61853316\n",
        "  0.00444396 -0.71335985 -0.09049968 -0.17604209]\n",
        " b ->  [ 0.68568779  1.29218169]\n",
        "b ** 2 -2 ->  [-1.52983225 -0.33026648]\n",
        "new a ->  [-1.05446842 -1.58511631 -0.20747295 -1.52983225 -0.33026648 -0.61853316\n",
        "  0.00444396 -0.71335985 -0.09049968 -0.17604209]\n"
       ]
      }
     ],
     "prompt_number": 1
    },
    {
     "cell_type": "heading",
     "level": 1,
     "metadata": {},
     "source": [
      "2.3 Read and Write"
     ]
    },
    {
     "cell_type": "code",
     "collapsed": false,
     "input": [
      "# open file \n",
      "f = open('filename.txt', 'r')\n",
      "#parse the file\n",
      "alist = f.readlines()\n",
      "#close file\n",
      "f.close()\n",
      "\n",
      "#To write\n",
      "f = open('newfilename.txt','w')\n",
      "f.writelines(newdata)\n",
      "f.close()"
     ],
     "language": "python",
     "metadata": {},
     "outputs": []
    },
    {
     "cell_type": "raw",
     "metadata": {},
     "source": [
      "But loading directly into numpy.ndarray is much faster!!!"
     ]
    },
    {
     "cell_type": "code",
     "collapsed": false,
     "input": [
      "arr = np.loadtxt('somefile.txt')\n",
      "np.savetxt('somenewfile.txt')"
     ],
     "language": "python",
     "metadata": {},
     "outputs": []
    },
    {
     "cell_type": "raw",
     "metadata": {},
     "source": [
      "If input data columns are of different data types, we need to predefine them. The final contruct will be a recarray!!!"
     ]
    },
    {
     "cell_type": "code",
     "collapsed": false,
     "input": [
      "table = np.loadtxt('example.txt',\n",
      "                   dtype={'names':('ID','Result', 'Type'),\n",
      "                          'formats':('S4','f4','i2')}) # the curly braces were missing in the text!\n",
      "print table"
     ],
     "language": "python",
     "metadata": {},
     "outputs": [],
     "prompt_number": "*"
    },
    {
     "cell_type": "raw",
     "metadata": {},
     "source": [
      "The higher precision bits seems to be filled with some random digits!!! The example.txt has only this:\n",
      "\n",
      "    XR21 32.789 1\n",
      "    XR22 33.091 2"
     ]
    },
    {
     "cell_type": "heading",
     "level": 1,
     "metadata": {},
     "source": [
      "2.4.1 Linear Algebra"
     ]
    },
    {
     "cell_type": "code",
     "collapsed": false,
     "input": [
      "# Trying to solve:\n",
      "# 3x + 6y - 5z = 12\n",
      "#  x - 3y + 2z = -2\n",
      "# 5x -  y + 4z = 10\n",
      "\n",
      "import numpy as np\n",
      "\n",
      "# Define matrices\n",
      "\n",
      "A =  np.matrix([[3,6,-5],\n",
      "                [1,-3,2],\n",
      "                [5,-1,4]])\n",
      "\n",
      "B = np.matrix([[12],\n",
      "               [-2],\n",
      "               [10]])\n",
      "\n",
      " # Solving the equation: A*X =B  -> X = A^{-1} * B\n",
      "X = A ** (-1) * B\n",
      "print 'X=', X"
     ],
     "language": "python",
     "metadata": {},
     "outputs": [
      {
       "output_type": "stream",
       "stream": "stdout",
       "text": [
        "X= [[ 1.75]\n",
        " [ 1.75]\n",
        " [ 0.75]]\n"
       ]
      }
     ],
     "prompt_number": 1
    },
    {
     "cell_type": "code",
     "collapsed": false,
     "input": [
      "# this methos is suppose to help with illformed or invertible matices!!\n",
      "C =  np.matrix([[3,6],\n",
      "\n",
      "                [2,4]])\n",
      "np.linalg.svd(C)"
     ],
     "language": "python",
     "metadata": {},
     "outputs": [
      {
       "metadata": {},
       "output_type": "pyout",
       "prompt_number": 2,
       "text": [
        "(matrix([[-0.83205029, -0.5547002 ],\n",
        "        [-0.5547002 ,  0.83205029]]),\n",
        " array([  8.06225775e+00,   3.97205465e-16]),\n",
        " matrix([[-0.4472136 , -0.89442719],\n",
        "        [-0.89442719,  0.4472136 ]]))"
       ]
      }
     ],
     "prompt_number": 2
    },
    {
     "cell_type": "code",
     "collapsed": false,
     "input": [
      "# Same example without calling numpy.matrix\n",
      "import numpy as np\n",
      "\n",
      " # Define matrices\n",
      "a = np.array([[3,6,-5],\n",
      "              [1,-3,2],\n",
      "              [5,-1,4]])\n",
      "\n",
      "b = np.array([12, -2, 10]) \n",
      "\n",
      "# Solving the equation: A*X =B  -> X = A^{-1} * B\n",
      "x = np.linalg.inv(a).dot(b)\n",
      "\n",
      "print 'x=', x"
     ],
     "language": "python",
     "metadata": {},
     "outputs": [
      {
       "output_type": "stream",
       "stream": "stdout",
       "text": [
        "x= [ 1.75  1.75  0.75]\n"
       ]
      }
     ],
     "prompt_number": 3
    },
    {
     "cell_type": "code",
     "collapsed": false,
     "input": [],
     "language": "python",
     "metadata": {},
     "outputs": []
    }
   ],
   "metadata": {}
  }
 ]
}